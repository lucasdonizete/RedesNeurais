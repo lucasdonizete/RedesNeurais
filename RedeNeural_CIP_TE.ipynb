{
  "nbformat": 4,
  "nbformat_minor": 0,
  "metadata": {
    "kernelspec": {
      "display_name": "Python 3",
      "language": "python",
      "name": "python3"
    },
    "language_info": {
      "codemirror_mode": {
        "name": "ipython",
        "version": 3
      },
      "file_extension": ".py",
      "mimetype": "text/x-python",
      "name": "python",
      "nbconvert_exporter": "python",
      "pygments_lexer": "ipython3",
      "version": "3.5.4"
    },
    "colab": {
      "name": "RedeNeural_CIP_TE",
      "provenance": [],
      "collapsed_sections": [],
      "include_colab_link": true
    }
  },
  "cells": [
    {
      "cell_type": "markdown",
      "metadata": {
        "id": "view-in-github",
        "colab_type": "text"
      },
      "source": [
        "<a href=\"https://colab.research.google.com/github/lucasdonizete/RedesNeurais/blob/main/RedeNeural_CIP_TE.ipynb\" target=\"_parent\"><img src=\"https://colab.research.google.com/assets/colab-badge.svg\" alt=\"Open In Colab\"/></a>"
      ]
    },
    {
      "cell_type": "code",
      "metadata": {
        "id": "cF6kzanWQZgh"
      },
      "source": [
        "# bibliotecas usadas\n",
        "\n",
        "# Inicialmente é necessário definir as bibliotecas que serão utilizadas para a execução do código corretamente:\n",
        "import numpy as np\n",
        "# numpy é a biblioteca numérica do Phyton\n",
        "import pandas as pd\n",
        "# pandas é a biblioteca responsável pela manipulação de arquivos\n",
        "import matplotlib.pyplot as plt\n",
        "# matplotlib.pyplot é a biblioteca usada para fazer gráficos no Phyton\n",
        "from sklearn.neural_network import MLPRegressor\n",
        "# sklearn.neural_network é a biblioteca usada para fazer classificação e regressão, neste caso, ela faz a regressão (MLPRegressor)\n",
        "from sklearn.model_selection import train_test_split\n",
        "#separa em treino e teste\n",
        "from sklearn import preprocessing\n",
        "#normaliza e retorna os dados\n",
        "from sklearn.metrics import mean_squared_error\n",
        "# Essa biblioteca é usada para fazer a soma dos quadrados dos desvios\n",
        "from sklearn.metrics import r2_score \n",
        "# Essa biblioteca foi criada para avaliar se o ajuste está bom através do coeficiente de determinação\n",
        "from scipy import optimize\n",
        "#Biblioteca de otimização\n",
        "from google.colab import files\n",
        "# Essa biblioteca é usada para carregar arquivos no Phyton"
      ],
      "execution_count": 1,
      "outputs": []
    },
    {
      "cell_type": "code",
      "metadata": {
        "id": "UW1APYrFQZgl"
      },
      "source": [
        "# para gerar o grafico no browser\n",
        "%matplotlib inline"
      ],
      "execution_count": 2,
      "outputs": []
    },
    {
      "cell_type": "code",
      "metadata": {
        "id": "xDrq_-S8QZgn",
        "colab": {
          "base_uri": "https://localhost:8080/"
        },
        "outputId": "5cdf1fd5-816e-4236-dcaf-1f4804d31914"
      },
      "source": [
        "!git clone https://github.com/lucasdonizete/RedesNeurais\n",
        "%cd RedesNeurais"
      ],
      "execution_count": 3,
      "outputs": [
        {
          "output_type": "stream",
          "text": [
            "fatal: destination path 'RedesNeurais' already exists and is not an empty directory.\n",
            "/content/RedesNeurais\n"
          ],
          "name": "stdout"
        }
      ]
    },
    {
      "cell_type": "code",
      "metadata": {
        "id": "poo2kvF6QZgo",
        "colab": {
          "base_uri": "https://localhost:8080/"
        },
        "outputId": "9adf894f-f408-46b5-f3b1-d889d87029b9"
      },
      "source": [
        "# leitura dos dados\n",
        "df=pd.read_csv(\"Dados_TeseCIP_Lucas.CSV\")\n",
        "print(df.head())"
      ],
      "execution_count": 4,
      "outputs": [
        {
          "output_type": "stream",
          "text": [
            "  Exp  X1  X2  X3  X4    TR    TE   COT   EXP   RED\n",
            "0   1   1   1   1  -1  5.01  1.38  3.92  5.79  5.31\n",
            "1   2   1   1  -1  -1  4.95  1.50  4.15  5.63  5.31\n",
            "2   3   1  -1   1   1  5.07  1.55  3.46  5.95  6.09\n",
            "3   4  -1   1  -1   1  5.34  2.09  5.06  5.91  5.05\n",
            "4   5   1  -1  -1   1  5.74  2.41  4.19  5.61  6.12\n"
          ],
          "name": "stdout"
        }
      ]
    },
    {
      "cell_type": "code",
      "metadata": {
        "id": "3ZSJRIGzfBse"
      },
      "source": [
        ""
      ],
      "execution_count": 4,
      "outputs": []
    },
    {
      "cell_type": "code",
      "metadata": {
        "id": "FEvCqRGUQZgr",
        "colab": {
          "base_uri": "https://localhost:8080/"
        },
        "outputId": "ab9111ec-a1cd-4b1c-805a-089269ce1ad7"
      },
      "source": [
        "# separa as colunas de interesse\n",
        "\n",
        "Index=[1,2,3,4,6]\n",
        "X=df.iloc[:,Index].copy()\n",
        "print(X.head())\n"
      ],
      "execution_count": 5,
      "outputs": [
        {
          "output_type": "stream",
          "text": [
            "   X1  X2  X3  X4    TE\n",
            "0   1   1   1  -1  1.38\n",
            "1   1   1  -1  -1  1.50\n",
            "2   1  -1   1   1  1.55\n",
            "3  -1   1  -1   1  2.09\n",
            "4   1  -1  -1   1  2.41\n"
          ],
          "name": "stdout"
        }
      ]
    },
    {
      "cell_type": "code",
      "metadata": {
        "id": "o_DGNriMXA5E"
      },
      "source": [
        "Index=[ 'TE']\n",
        "y =df[Index]"
      ],
      "execution_count": 6,
      "outputs": []
    },
    {
      "cell_type": "code",
      "metadata": {
        "id": "9_In7Roxklf-"
      },
      "source": [
        "X_train, X_test, y_train, y_test = train_test_split(X,y,test_size=0.20, shuffle=True, random_state=3)# 1"
      ],
      "execution_count": 7,
      "outputs": []
    },
    {
      "cell_type": "code",
      "metadata": {
        "id": "W1D-K3kZfdKC"
      },
      "source": [
        "#Normatiza os dados através da biblioteca pre-processing\n",
        "scaler_X = preprocessing.MinMaxScaler((-1,1)).fit(X)\n",
        "scaler_Y = preprocessing.MinMaxScaler((-1,1)).fit(y)"
      ],
      "execution_count": 8,
      "outputs": []
    },
    {
      "cell_type": "code",
      "metadata": {
        "id": "a7xdJHoKhCUA"
      },
      "source": [
        "X_train = scaler_X.transform(X_train)\n",
        "X_test = scaler_X.transform(X_test)\n",
        "y_train = scaler_Y.transform(y_train)\n",
        "y_test = scaler_Y.transform(y_test)"
      ],
      "execution_count": 9,
      "outputs": []
    },
    {
      "cell_type": "code",
      "metadata": {
        "id": "BpNn_IogQZgt"
      },
      "source": [
        "# define a rede neural \n",
        "\n",
        "model = MLPRegressor(solver='lbfgs',activation='tanh',alpha=1e-5,hidden_layer_sizes=(15,16), max_iter=500,random_state=1 )"
      ],
      "execution_count": 10,
      "outputs": []
    },
    {
      "cell_type": "code",
      "metadata": {
        "id": "Y8BteMytQZgu",
        "colab": {
          "base_uri": "https://localhost:8080/"
        },
        "outputId": "2e1f4335-a1b1-4360-9a75-7a4ed627d627"
      },
      "source": [
        "# treina a rede neural\n",
        "model.fit(X_train, y_train)"
      ],
      "execution_count": 11,
      "outputs": [
        {
          "output_type": "stream",
          "text": [
            "/usr/local/lib/python3.7/dist-packages/sklearn/neural_network/_multilayer_perceptron.py:1342: DataConversionWarning: A column-vector y was passed when a 1d array was expected. Please change the shape of y to (n_samples, ), for example using ravel().\n",
            "  y = column_or_1d(y, warn=True)\n"
          ],
          "name": "stderr"
        },
        {
          "output_type": "execute_result",
          "data": {
            "text/plain": [
              "MLPRegressor(activation='tanh', alpha=1e-05, batch_size='auto', beta_1=0.9,\n",
              "             beta_2=0.999, early_stopping=False, epsilon=1e-08,\n",
              "             hidden_layer_sizes=(15, 16), learning_rate='constant',\n",
              "             learning_rate_init=0.001, max_fun=15000, max_iter=500,\n",
              "             momentum=0.9, n_iter_no_change=10, nesterovs_momentum=True,\n",
              "             power_t=0.5, random_state=1, shuffle=True, solver='lbfgs',\n",
              "             tol=0.0001, validation_fraction=0.1, verbose=False,\n",
              "             warm_start=False)"
            ]
          },
          "metadata": {
            "tags": []
          },
          "execution_count": 11
        }
      ]
    },
    {
      "cell_type": "code",
      "metadata": {
        "id": "smaQ8uSGQZgv"
      },
      "source": [
        "# usa a rede neural treina em calculos para treino e teste\n",
        "y_calc_train=model.predict(X_train)\n",
        "y_calc_test=model.predict(X_test)"
      ],
      "execution_count": 12,
      "outputs": []
    },
    {
      "cell_type": "code",
      "metadata": {
        "id": "aVJXbUosQZgw"
      },
      "source": [
        "# transforma dos dados calculados na forma original (nao normatizado)\n",
        "y_obs_train=scaler_Y.inverse_transform(np.array(y_train).reshape(-1,1))\n",
        "y_obs_test=scaler_Y.inverse_transform(np.array(y_test).reshape(-1,1))\n",
        "y_calc_train=scaler_Y.inverse_transform(y_calc_train.reshape(-1,1))\n",
        "y_calc_test=scaler_Y.inverse_transform(y_calc_test.reshape(-1,1))"
      ],
      "execution_count": 13,
      "outputs": []
    },
    {
      "cell_type": "code",
      "metadata": {
        "id": "mOnXxDRMX4e8",
        "colab": {
          "base_uri": "https://localhost:8080/"
        },
        "outputId": "d0388446-a37f-4f66-925b-7e7d43e6900f"
      },
      "source": [
        "print(pd.DataFrame({'test calc':y_calc_test.ravel(),'test true':y_obs_test.ravel()}))"
      ],
      "execution_count": 14,
      "outputs": [
        {
          "output_type": "stream",
          "text": [
            "   test calc  test true\n",
            "0   1.875433       1.85\n",
            "1   2.442232       2.41\n",
            "2   2.917373       2.92\n",
            "3   1.229736       1.23\n",
            "4   2.389755       2.39\n"
          ],
          "name": "stdout"
        }
      ]
    },
    {
      "cell_type": "code",
      "metadata": {
        "id": "RZrkRZ3GQZgz",
        "colab": {
          "base_uri": "https://localhost:8080/",
          "height": 283
        },
        "outputId": "0babae77-ced0-448a-c8be-75e530fae51f"
      },
      "source": [
        "# expressa os dois dados em figura\n",
        "fig = plt.figure()\n",
        "ax1 = fig.add_subplot(111)\n",
        "ax1.scatter(y_obs_test,y_calc_test, s=10, c='b', marker=\"s\", label='teste')\n",
        "ax1.scatter(y_obs_train,y_calc_train, s=10, c='r', marker=\"o\", label='treino')\n",
        "plt.legend(loc='upper left')\n",
        "plt.xlim([1,4])\n",
        "plt.ylim([1,4])\n",
        "plt.ylabel('RD Te Calc')\n",
        "plt.xlabel('RD Te Obs')\n",
        "plt.show()"
      ],
      "execution_count": 15,
      "outputs": [
        {
          "output_type": "display_data",
          "data": {
            "image/png": "[encoded data removed]",
            "text/plain": [
              "<Figure size 432x288 with 1 Axes>"
            ]
          },
          "metadata": {
            "tags": [],
            "needs_background": "light"
          }
        }
      ]
    },
    {
      "cell_type": "code",
      "metadata": {
        "id": "aj_XteG2QZg0",
        "colab": {
          "base_uri": "https://localhost:8080/"
        },
        "outputId": "e5936b5c-6134-4022-cd51-f817657a3b41"
      },
      "source": [
        "mse=mean_squared_error(y_obs_test,y_calc_test)\n",
        "print(\"MSE teste=\",mse)\n",
        "R2=r2_score(y_obs_test,y_calc_test)\n",
        "print(\"R^2 teste=\",R2)"
      ],
      "execution_count": 16,
      "outputs": [
        {
          "output_type": "stream",
          "text": [
            "MSE teste= 0.00033855746862286243\n",
            "R^2 teste= 0.9989765493693383\n"
          ],
          "name": "stdout"
        }
      ]
    },
    {
      "cell_type": "code",
      "metadata": {
        "id": "efLwFnUqQZg1",
        "colab": {
          "base_uri": "https://localhost:8080/"
        },
        "outputId": "eedfd775-3965-4a3e-9465-d3b01d85f2dc"
      },
      "source": [
        "mse=mean_squared_error(y_obs_train,y_calc_train)\n",
        "print(\"MSE treino=\",mse)\n",
        "R2=r2_score(y_obs_train,y_calc_train)\n",
        "print(\"R^2 treino=\",R2)"
      ],
      "execution_count": 17,
      "outputs": [
        {
          "output_type": "stream",
          "text": [
            "MSE treino= 3.1996578702604686e-05\n",
            "R^2 treino= 0.9999147606674083\n"
          ],
          "name": "stdout"
        }
      ]
    },
    {
      "cell_type": "code",
      "metadata": {
        "id": "oEdkZnGqgPAl"
      },
      "source": [
        "def function(scaler_X):\n",
        "  global model\n",
        "  scaler_X=scaler_X.reshape((1, 5))\n",
        "  df = pd.DataFrame(scaler_X)\n",
        "  Y=model.predict(df)\n",
        "  fun=Y*(-1)\n",
        "  return fun"
      ],
      "execution_count": 18,
      "outputs": []
    },
    {
      "cell_type": "code",
      "metadata": {
        "colab": {
          "base_uri": "https://localhost:8080/"
        },
        "id": "44bvOrIOPPoE",
        "outputId": "ce75b42c-24f6-47c9-dbdb-affc98dd4215"
      },
      "source": [
        "bounds = [(-2, 2),(-2, 2),(-2, 2),(-2,2),(0,6)]\n",
        "Condicoes = optimize.differential_evolution(function,bounds)\n",
        "#Condicoes=pd.DataFrame(Condicoes.scaler_X.reshape(1, 4))\n",
        "print(Condicoes)"
      ],
      "execution_count": 19,
      "outputs": [
        {
          "output_type": "stream",
          "text": [
            "     fun: array([-2.86520716])\n",
            "     jac: array([ 0.00000000e+00, -1.06581410e-06,  1.04556541e-01,  1.77635684e-07,\n",
            "       -6.39838849e-02])\n",
            " message: 'Optimization terminated successfully.'\n",
            "    nfev: 1254\n",
            "     nit: 15\n",
            " success: True\n",
            "       x: array([ 0.01570574, -0.80478747, -2.        , -1.62899777,  6.        ])\n"
          ],
          "name": "stdout"
        }
      ]
    }
  ]
}