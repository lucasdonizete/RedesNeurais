{
  "nbformat": 4,
  "nbformat_minor": 0,
  "metadata": {
    "colab": {
      "name": "Trabalho_02_Lucas.ipynb",
      "provenance": [],
      "include_colab_link": true
    },
    "kernelspec": {
      "name": "python3",
      "display_name": "Python 3"
    },
    "language_info": {
      "name": "python"
    },
    "accelerator": "GPU"
  },
  "cells": [
    {
      "cell_type": "markdown",
      "metadata": {
        "id": "view-in-github",
        "colab_type": "text"
      },
      "source": [
        "<a href=\"https://colab.research.google.com/github/lucasdonizete/RedesNeurais/blob/main/Trabalho_02_Lucas.ipynb\" target=\"_parent\"><img src=\"https://colab.research.google.com/assets/colab-badge.svg\" alt=\"Open In Colab\"/></a>"
      ]
    },
    {
      "cell_type": "code",
      "metadata": {
        "id": "_Mm8oeR4bDFi"
      },
      "source": [
        "from matplotlib import pyplot as plt\n",
        "from PIL import Image\n",
        "import numpy as np\n",
        "import pandas as pd\n",
        "import os \n",
        "import cv2\n",
        "import re, random\n",
        "\n",
        "from sklearn.neural_network import MLPClassifier\n",
        "from sklearn import preprocessing\n",
        "from sklearn.model_selection import train_test_split\n",
        "from sklearn.metrics import classification_report\n",
        "import random"
      ],
      "execution_count": 1,
      "outputs": []
    },
    {
      "cell_type": "code",
      "metadata": {
        "colab": {
          "base_uri": "https://localhost:8080/"
        },
        "id": "uj8Fp8y1bI-K",
        "outputId": "58d377e4-01f9-4d9e-dce1-b04f86308551"
      },
      "source": [
        "!gdown --id 1CoPQHEJx2P-p2RqjyEwTRDp2vMQUeAOw #comando que baixa do google drive"
      ],
      "execution_count": 2,
      "outputs": [
        {
          "output_type": "stream",
          "text": [
            "Downloading...\n",
            "From: https://drive.google.com/uc?id=1CoPQHEJx2P-p2RqjyEwTRDp2vMQUeAOw\n",
            "To: /content/FOTOS_DOGS_ALL.zip\n",
            "\r0.00B [00:00, ?B/s]\r4.72MB [00:00, 20.8MB/s]\r12.9MB [00:00, 49.0MB/s]\n"
          ],
          "name": "stdout"
        }
      ]
    },
    {
      "cell_type": "code",
      "metadata": {
        "id": "LKH4BYXjbMPo"
      },
      "source": [
        "import zipfile\n",
        "file_name = zipfile.ZipFile('FOTOS_DOGS_ALL.zip', 'r')\n",
        "file_name.extractall()"
      ],
      "execution_count": 3,
      "outputs": []
    },
    {
      "cell_type": "code",
      "metadata": {
        "colab": {
          "base_uri": "https://localhost:8080/",
          "height": 214
        },
        "id": "hxWYIxVJ9Tue",
        "outputId": "95a0ae4a-d241-4caa-9f51-80a03127da66"
      },
      "source": [
        "# all images are load in variable x...\n",
        "FILE='FOTOS_DOGS_ALL.zip'\n",
        "Img_Size = 160\n",
        "img_name=[]\n",
        "x_gray=[]\n",
        "x_original = []\n",
        "with zipfile.ZipFile(FILE, \"r\") as f:\n",
        "    for name in f.namelist():\n",
        "        img_name.append(name)\n",
        "        #x_gray.append(cv2.imread(name, 0))\n",
        "        x_gray.append(cv2.resize(cv2.imread(name, 0),(Img_Size,Img_Size)))"
      ],
      "execution_count": 4,
      "outputs": [
        {
          "output_type": "error",
          "ename": "TypeError",
          "evalue": "ignored",
          "traceback": [
            "\u001b[0;31m---------------------------------------------------------------------------\u001b[0m",
            "\u001b[0;31mTypeError\u001b[0m                                 Traceback (most recent call last)",
            "\u001b[0;32m<ipython-input-4-6caf827c39b4>\u001b[0m in \u001b[0;36m<module>\u001b[0;34m()\u001b[0m\n\u001b[1;32m      9\u001b[0m         \u001b[0mimg_name\u001b[0m\u001b[0;34m.\u001b[0m\u001b[0mappend\u001b[0m\u001b[0;34m(\u001b[0m\u001b[0mname\u001b[0m\u001b[0;34m)\u001b[0m\u001b[0;34m\u001b[0m\u001b[0;34m\u001b[0m\u001b[0m\n\u001b[1;32m     10\u001b[0m         \u001b[0;31m#x_gray.append(cv2.imread(name, 0))\u001b[0m\u001b[0;34m\u001b[0m\u001b[0;34m\u001b[0m\u001b[0;34m\u001b[0m\u001b[0m\n\u001b[0;32m---> 11\u001b[0;31m         \u001b[0mx_gray\u001b[0m\u001b[0;34m=\u001b[0m\u001b[0mcv2\u001b[0m\u001b[0;34m.\u001b[0m\u001b[0mcvtColor\u001b[0m\u001b[0;34m(\u001b[0m\u001b[0mx_gray\u001b[0m\u001b[0;34m,\u001b[0m \u001b[0mcv2\u001b[0m\u001b[0;34m.\u001b[0m\u001b[0mCOLOR_BGR2RGB\u001b[0m\u001b[0;34m)\u001b[0m\u001b[0;34m\u001b[0m\u001b[0;34m\u001b[0m\u001b[0m\n\u001b[0m\u001b[1;32m     12\u001b[0m         \u001b[0mx_gray\u001b[0m\u001b[0;34m.\u001b[0m\u001b[0mappend\u001b[0m\u001b[0;34m(\u001b[0m\u001b[0mcv2\u001b[0m\u001b[0;34m.\u001b[0m\u001b[0mresize\u001b[0m\u001b[0;34m(\u001b[0m\u001b[0mcv2\u001b[0m\u001b[0;34m.\u001b[0m\u001b[0mimread\u001b[0m\u001b[0;34m(\u001b[0m\u001b[0mname\u001b[0m\u001b[0;34m,\u001b[0m \u001b[0;36m0\u001b[0m\u001b[0;34m)\u001b[0m\u001b[0;34m,\u001b[0m\u001b[0;34m(\u001b[0m\u001b[0mImg_Size\u001b[0m\u001b[0;34m,\u001b[0m\u001b[0mImg_Size\u001b[0m\u001b[0;34m)\u001b[0m\u001b[0;34m)\u001b[0m\u001b[0;34m)\u001b[0m\u001b[0;34m\u001b[0m\u001b[0;34m\u001b[0m\u001b[0m\n",
            "\u001b[0;31mTypeError\u001b[0m: Expected Ptr<cv::UMat> for argument '%s'"
          ]
        }
      ]
    },
    {
      "cell_type": "code",
      "metadata": {
        "id": "IY-aQfXycIFO"
      },
      "source": [
        "y_names = [] # colocou as tres primeiras letras e colocou na lista de todas as imagens\n",
        "for yy in img_name:\n",
        "  name = yy[17]+yy[18]+yy[19]\n",
        "  y_names.append(name)"
      ],
      "execution_count": null,
      "outputs": []
    },
    {
      "cell_type": "code",
      "metadata": {
        "id": "9UBn_ENtcJjr"
      },
      "source": [
        "unique_list = []    \n",
        "for yy in y_names: #criacao das listas da ann\n",
        "  if yy not in unique_list:\n",
        "    unique_list.append(yy)\n",
        "unique_list #criou as categorias dos peixes"
      ],
      "execution_count": null,
      "outputs": []
    },
    {
      "cell_type": "code",
      "metadata": {
        "id": "Tur5xYl1ijRk"
      },
      "source": [
        ""
      ],
      "execution_count": null,
      "outputs": []
    },
    {
      "cell_type": "code",
      "metadata": {
        "id": "Xmk3XYxucLkf"
      },
      "source": [
        "n = len(unique_list)\n",
        "y = [] #lista em branco\n",
        "for yy in y_names:\n",
        "  for i in range(n):\n",
        "    if(yy == unique_list[i]):\n",
        "      y.append(i)"
      ],
      "execution_count": null,
      "outputs": []
    },
    {
      "cell_type": "code",
      "metadata": {
        "id": "HvXnCfjucO4b"
      },
      "source": [
        "num = len(y_names)\n",
        "plt.figure(figsize=(16, 16))\n",
        "for i in range(16): #mostra fotos aleatorias da biblioteca\n",
        "  ax = plt.subplot(4, 4, i + 1)\n",
        "  kk = random.randrange(num) \n",
        "  plt.imshow(x_gray[kk])\n",
        "  plt.title(y_names[kk])\n",
        "  plt.axis(\"off\")"
      ],
      "execution_count": null,
      "outputs": []
    },
    {
      "cell_type": "code",
      "metadata": {
        "id": "g7x1cISQcgiE"
      },
      "source": [
        "x_data = []\n",
        "for xx in x_gray:\n",
        "  x_data.append(xx.ravel()) #transforma as fotos/matrizes em linhas (Esse eh um comando que demora um pouco para ser executado)\n",
        "\n",
        "X = pd.DataFrame(x_data)"
      ],
      "execution_count": null,
      "outputs": []
    },
    {
      "cell_type": "code",
      "metadata": {
        "id": "hdVwH7qSdHEZ"
      },
      "source": [
        "X_train, X_test, y_train, y_test = train_test_split(X,y,test_size=0.20, shuffle=True, random_state=3) #separando os dataset em test e train"
      ],
      "execution_count": null,
      "outputs": []
    },
    {
      "cell_type": "code",
      "metadata": {
        "id": "_Yp4Kd2tdIZ7"
      },
      "source": [
        "scaler_X = preprocessing.MinMaxScaler((-1,1)).fit(X) #normalizar\n",
        "X_train = scaler_X.transform(X_train)\n",
        "X_test = scaler_X.transform(X_test)"
      ],
      "execution_count": null,
      "outputs": []
    },
    {
      "cell_type": "code",
      "metadata": {
        "id": "0urDC0-adLUt"
      },
      "source": [
        "model = MLPClassifier(solver='lbfgs',activation='tanh',alpha=1e-5,hidden_layer_sizes=(25,18),\n",
        "                      max_iter=1000,random_state=1) #implementacao da ANN"
      ],
      "execution_count": null,
      "outputs": []
    },
    {
      "cell_type": "code",
      "metadata": {
        "id": "elfah895dOAv"
      },
      "source": [
        "model.fit(X_train, y_train) #esse eh outro comando que demora para ser executado"
      ],
      "execution_count": null,
      "outputs": []
    },
    {
      "cell_type": "code",
      "metadata": {
        "id": "FWIL0wsQdl-h"
      },
      "source": [
        "y_calc_train=model.predict(X_train)\n",
        "y_calc_test=model.predict(X_test)"
      ],
      "execution_count": null,
      "outputs": []
    },
    {
      "cell_type": "code",
      "metadata": {
        "id": "UTqd2dtadnC3"
      },
      "source": [
        "df = pd.DataFrame({'true':y_train,'calc':y_calc_train})\n",
        "print(pd.crosstab(df['true'],df['calc'])) #matriz confusao dos dados de treino da ANN\n",
        "#bons resultados porque formou uma matriz diagonal"
      ],
      "execution_count": null,
      "outputs": []
    },
    {
      "cell_type": "code",
      "metadata": {
        "id": "nmxblSY_dpKG"
      },
      "source": [
        "df = pd.DataFrame({'true':y_test,'calc':y_calc_test})\n",
        "print(pd.crosstab(df['true'],df['calc'])) #matriz confusado dos dados de teste\n",
        "#Nao eh uma matriz diagonal, isso indica que a ann 'confundiu' na hora de classificar as imagens"
      ],
      "execution_count": null,
      "outputs": []
    },
    {
      "cell_type": "code",
      "metadata": {
        "id": "90P0wlkRdriw"
      },
      "source": [
        "y_true = y_test\n",
        "y_pred = y_calc_test\n",
        "target_names = ['Basset', 'Bulldog', 'Labrador', 'Poodle']\n",
        "print(classification_report(y_true, y_pred, target_names=target_names))\n",
        "#matriz confusao com a acuracia global do problema de 0.88"
      ],
      "execution_count": null,
      "outputs": []
    }
  ]
}