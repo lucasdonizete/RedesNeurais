{
  "nbformat": 4,
  "nbformat_minor": 0,
  "metadata": {
    "kernelspec": {
      "display_name": "Python 3",
      "language": "python",
      "name": "python3"
    },
    "language_info": {
      "codemirror_mode": {
        "name": "ipython",
        "version": 3
      },
      "file_extension": ".py",
      "mimetype": "text/x-python",
      "name": "python",
      "nbconvert_exporter": "python",
      "pygments_lexer": "ipython3",
      "version": "3.5.4"
    },
    "colab": {
      "name": "ANN_CIP_deserability_Julho_15_2021.ipynb",
      "provenance": [],
      "collapsed_sections": [],
      "include_colab_link": true
    }
  },
  "cells": [
    {
      "cell_type": "markdown",
      "metadata": {
        "id": "view-in-github",
        "colab_type": "text"
      },
      "source": [
        "<a href=\"https://colab.research.google.com/github/lucasdonizete/RedesNeurais/blob/main/ANN_CIP_deserability_Julho_15_2021.ipynb\" target=\"_parent\"><img src=\"https://colab.research.google.com/assets/colab-badge.svg\" alt=\"Open In Colab\"/></a>"
      ]
    },
    {
      "cell_type": "code",
      "metadata": {
        "id": "cF6kzanWQZgh"
      },
      "source": [
        "# bibliotecas usadas\n",
        "import numpy as np\n",
        "import pandas as pd\n",
        "import matplotlib.pyplot as plt\n",
        "from sklearn.neural_network import MLPRegressor\n",
        "from sklearn.model_selection import train_test_split\n",
        "from sklearn.metrics import mean_squared_error\n",
        "from sklearn import preprocessing\n",
        "from sklearn.metrics import r2_score \n",
        "from google.colab import files\n",
        "from scipy import optimize"
      ],
      "execution_count": 1,
      "outputs": []
    },
    {
      "cell_type": "code",
      "metadata": {
        "id": "UW1APYrFQZgl"
      },
      "source": [
        "# para gerar o grafico no browser\n",
        "%matplotlib inline"
      ],
      "execution_count": 2,
      "outputs": []
    },
    {
      "cell_type": "code",
      "metadata": {
        "id": "xDrq_-S8QZgn",
        "colab": {
          "base_uri": "https://localhost:8080/"
        },
        "outputId": "19110425-24b3-41db-eba3-6e8512c482d4"
      },
      "source": [
        "!git clone https://github.com/lucasdonizete/RedesNeurais/\n",
        "%cd RedesNeurais"
      ],
      "execution_count": 3,
      "outputs": [
        {
          "output_type": "stream",
          "text": [
            "fatal: destination path 'RedesNeurais' already exists and is not an empty directory.\n",
            "/content/RedesNeurais\n"
          ],
          "name": "stdout"
        }
      ]
    },
    {
      "cell_type": "code",
      "metadata": {
        "id": "poo2kvF6QZgo",
        "colab": {
          "base_uri": "https://localhost:8080/"
        },
        "outputId": "48ce7fea-bfef-46be-b732-4d2f0b8227d6"
      },
      "source": [
        "df=pd.read_csv(\"DADOS_CIP_TESE.csv\")\n",
        "print(df.head())"
      ],
      "execution_count": 4,
      "outputs": [
        {
          "output_type": "stream",
          "text": [
            "  RUN  A  B  C  D    TR    TE   COT   EXP   RED  ENERGY\n",
            "0   1  1  1  1 -1  4.92  1.87  4.35  5.81  4.87  160.32\n",
            "1   2  1  1 -1 -1  5.01  2.20  4.43  5.63  5.26  177.95\n",
            "2   3  1 -1  1  1  5.27  2.28  3.64  5.94  6.01  132.31\n",
            "3   4 -1  1 -1  1  4.13  2.45  2.79  5.40  5.33   85.86\n",
            "4   5  1 -1 -1  1  5.60  2.53  4.67  5.22  5.97  147.02\n"
          ],
          "name": "stdout"
        }
      ]
    },
    {
      "cell_type": "code",
      "metadata": {
        "id": "FEvCqRGUQZgr"
      },
      "source": [
        "# separa as variáveis dependentes e independentes\n",
        "X = df[['A','B','C','D']]\n",
        "y = np.array(df[['TR','TE','COT','EXP','RED','ENERGY']]).reshape(-1,6)"
      ],
      "execution_count": 5,
      "outputs": []
    },
    {
      "cell_type": "code",
      "metadata": {
        "id": "9_In7Roxklf-"
      },
      "source": [
        "X_train, X_test, y_train, y_test = train_test_split(X,y,test_size=0.10, shuffle=True, random_state=3)"
      ],
      "execution_count": 6,
      "outputs": []
    },
    {
      "cell_type": "code",
      "metadata": {
        "id": "W1D-K3kZfdKC"
      },
      "source": [
        "scaler_X = preprocessing.MinMaxScaler((-1,1)).fit(X)\n",
        "scaler_Y = preprocessing.MinMaxScaler((-1,1)).fit(y)"
      ],
      "execution_count": 7,
      "outputs": []
    },
    {
      "cell_type": "code",
      "metadata": {
        "id": "n79c1vardcuS"
      },
      "source": [
        "X_train = scaler_X.transform(X)\n",
        "y_train = scaler_Y.transform(y)"
      ],
      "execution_count": 8,
      "outputs": []
    },
    {
      "cell_type": "code",
      "metadata": {
        "id": "a7xdJHoKhCUA",
        "colab": {
          "base_uri": "https://localhost:8080/",
          "height": 35
        },
        "outputId": "19b1a188-4d7c-4a58-be29-f14ad28a1de7"
      },
      "source": [
        "'''\n",
        "X_train = scaler_X.transform(X_train)\n",
        "X_test = scaler_X.transform(X_test)\n",
        "y_train = scaler_Y.transform(y_train)\n",
        "y_test = scaler_Y.transform(y_test)\n",
        "'''"
      ],
      "execution_count": 9,
      "outputs": [
        {
          "output_type": "execute_result",
          "data": {
            "application/vnd.google.colaboratory.intrinsic+json": {
              "type": "string"
            },
            "text/plain": [
              "'\\nX_train = scaler_X.transform(X_train)\\nX_test = scaler_X.transform(X_test)\\ny_train = scaler_Y.transform(y_train)\\ny_test = scaler_Y.transform(y_test)\\n'"
            ]
          },
          "metadata": {
            "tags": []
          },
          "execution_count": 9
        }
      ]
    },
    {
      "cell_type": "code",
      "metadata": {
        "id": "ohPsTk19YUaR"
      },
      "source": [
        "# define a rede neural \n",
        "model = MLPRegressor(solver='lbfgs',activation='tanh',alpha=1e-5,hidden_layer_sizes=(15),\n",
        "                     random_state=1)"
      ],
      "execution_count": 10,
      "outputs": []
    },
    {
      "cell_type": "code",
      "metadata": {
        "colab": {
          "base_uri": "https://localhost:8080/"
        },
        "id": "hYNjZoGaYb1k",
        "outputId": "3312081b-e023-41b0-d9c7-255c5235e4b2"
      },
      "source": [
        "# treina a rede neural\n",
        "model.fit(X_train, y_train)"
      ],
      "execution_count": 11,
      "outputs": [
        {
          "output_type": "stream",
          "text": [
            "/usr/local/lib/python3.7/dist-packages/sklearn/neural_network/_multilayer_perceptron.py:470: ConvergenceWarning: lbfgs failed to converge (status=1):\n",
            "STOP: TOTAL NO. of ITERATIONS REACHED LIMIT.\n",
            "\n",
            "Increase the number of iterations (max_iter) or scale the data as shown in:\n",
            "    https://scikit-learn.org/stable/modules/preprocessing.html\n",
            "  self.n_iter_ = _check_optimize_result(\"lbfgs\", opt_res, self.max_iter)\n"
          ],
          "name": "stderr"
        },
        {
          "output_type": "execute_result",
          "data": {
            "text/plain": [
              "MLPRegressor(activation='tanh', alpha=1e-05, batch_size='auto', beta_1=0.9,\n",
              "             beta_2=0.999, early_stopping=False, epsilon=1e-08,\n",
              "             hidden_layer_sizes=15, learning_rate='constant',\n",
              "             learning_rate_init=0.001, max_fun=15000, max_iter=200,\n",
              "             momentum=0.9, n_iter_no_change=10, nesterovs_momentum=True,\n",
              "             power_t=0.5, random_state=1, shuffle=True, solver='lbfgs',\n",
              "             tol=0.0001, validation_fraction=0.1, verbose=False,\n",
              "             warm_start=False)"
            ]
          },
          "metadata": {
            "tags": []
          },
          "execution_count": 11
        }
      ]
    },
    {
      "cell_type": "code",
      "metadata": {
        "id": "qF4fxd33YjWF"
      },
      "source": [
        "# usa a rede neural treina em calculos para treino e teste\n",
        "y_calc_train=model.predict(X_train)\n",
        "# y_calc_test=model.predict(X_test)"
      ],
      "execution_count": 12,
      "outputs": []
    },
    {
      "cell_type": "code",
      "metadata": {
        "colab": {
          "base_uri": "https://localhost:8080/"
        },
        "id": "fjTXAKSnb1L8",
        "outputId": "0c67e009-4516-4cb0-cda2-de2712e25c6f"
      },
      "source": [
        "y_train"
      ],
      "execution_count": 13,
      "outputs": [
        {
          "output_type": "execute_result",
          "data": {
            "text/plain": [
              "array([[ 0.17910448, -0.84680851, -0.11111111,  0.184     , -0.49038462,\n",
              "         0.65278158],\n",
              "       [ 0.24626866, -0.56595745, -0.06552707, -0.104     , -0.11538462,\n",
              "         0.89435462],\n",
              "       [ 0.44029851, -0.49787234, -0.51566952,  0.392     ,  0.60576923,\n",
              "         0.2689778 ],\n",
              "       [-0.41044776, -0.35319149, -1.        , -0.472     , -0.04807692,\n",
              "        -0.36749794],\n",
              "       [ 0.68656716, -0.28510638,  0.07122507, -0.76      ,  0.56730769,\n",
              "         0.47053987],\n",
              "       [ 0.00746269, -0.41276596,  0.0997151 ,  0.024     ,  0.47115385,\n",
              "        -0.66799123],\n",
              "       [-0.43283582, -0.03829787,  0.9031339 ,  0.424     ,  0.55769231,\n",
              "        -0.3373527 ],\n",
              "       [ 0.00746269, -0.31914894,  1.        , -0.296     ,  0.625     ,\n",
              "        -0.5143875 ],\n",
              "       [ 1.        ,  0.62553191,  0.73219373,  0.68      ,  0.60576923,\n",
              "         0.26335982],\n",
              "       [ 0.00746269, -1.        ,  0.27065527, -0.84      ,  0.11538462,\n",
              "        -1.        ],\n",
              "       [ 0.15671642,  0.27659574,  0.48148148,  0.232     ,  1.        ,\n",
              "         1.        ],\n",
              "       [ 0.41791045, -0.16595745, -0.23646724, -1.        ,  0.39423077,\n",
              "        -0.48657166],\n",
              "       [ 0.92537313, -0.00425532, -0.14529915, -0.664     ,  0.25      ,\n",
              "         0.29186078],\n",
              "       [ 0.01492537,  0.38723404,  0.43019943, -0.168     ,  0.58653846,\n",
              "         0.21594958],\n",
              "       [ 0.2238806 ,  0.02978723,  0.28774929,  1.        ,  0.61538462,\n",
              "        -0.00205536],\n",
              "       [-1.        , -0.88085106, -0.73219373,  0.152     , -1.        ,\n",
              "         0.11510003],\n",
              "       [-0.36567164, -0.29361702,  0.48148148,  0.312     ,  0.19230769,\n",
              "         0.12003289],\n",
              "       [ 0.76865672,  1.        ,  0.92592593,  0.968     ,  0.875     ,\n",
              "         0.15702932],\n",
              "       [ 0.51492537,  0.93191489,  1.        ,  0.504     ,  0.51923077,\n",
              "         0.29638257]])"
            ]
          },
          "metadata": {
            "tags": []
          },
          "execution_count": 13
        }
      ]
    },
    {
      "cell_type": "code",
      "metadata": {
        "colab": {
          "base_uri": "https://localhost:8080/"
        },
        "id": "Y-xRoqNPcG5x",
        "outputId": "70912688-82fc-4f61-ad33-19e1872de6d1"
      },
      "source": [
        "y_calc_train"
      ],
      "execution_count": 14,
      "outputs": [
        {
          "output_type": "execute_result",
          "data": {
            "text/plain": [
              "array([[ 1.78069983e-01, -8.47565294e-01, -1.13398049e-01,\n",
              "         1.86057117e-01, -4.90022528e-01,  6.53573584e-01],\n",
              "       [ 2.47159699e-01, -5.63334176e-01, -6.60161823e-02,\n",
              "        -1.04862720e-01, -1.15078463e-01,  8.99466607e-01],\n",
              "       [ 4.38245175e-01, -4.95288435e-01, -5.14325521e-01,\n",
              "         3.89077219e-01,  6.06188893e-01,  2.70978210e-01],\n",
              "       [-4.08826418e-01, -3.54040042e-01, -1.00129837e+00,\n",
              "        -4.70171685e-01, -4.94498727e-02, -3.70712183e-01],\n",
              "       [ 6.88629618e-01, -2.86784331e-01,  7.19113236e-02,\n",
              "        -7.57355573e-01,  5.66192638e-01,  4.68287424e-01],\n",
              "       [ 7.04684603e-03, -4.11652673e-01,  9.96866392e-02,\n",
              "         2.38404392e-02,  4.73418507e-01, -6.68618840e-01],\n",
              "       [-4.33326237e-01, -3.73949505e-02,  9.00802854e-01,\n",
              "         4.23847756e-01,  5.58911195e-01, -3.31413957e-01],\n",
              "       [ 7.00940937e-03, -3.21047021e-01,  1.00019865e+00,\n",
              "        -2.94494419e-01,  6.21733510e-01, -5.17971968e-01],\n",
              "       [ 7.60862082e-01,  8.53211824e-01,  8.85506307e-01,\n",
              "         7.17580287e-01,  6.66251850e-01,  2.37979568e-01],\n",
              "       [ 6.79986761e-03, -9.99638440e-01,  2.71814693e-01,\n",
              "        -8.41334546e-01,  1.15076933e-01, -1.00028371e+00],\n",
              "       [ 1.57299559e-01,  2.74883198e-01,  4.81730212e-01,\n",
              "         2.32048507e-01,  9.99083192e-01,  9.94074964e-01],\n",
              "       [ 4.17201705e-01, -1.64789816e-01, -2.37586076e-01,\n",
              "        -1.00233548e+00,  3.96468589e-01, -4.82287328e-01],\n",
              "       [ 9.23960003e-01, -4.31952450e-03, -1.42993926e-01,\n",
              "        -6.64856150e-01,  2.48842251e-01,  2.89163392e-01],\n",
              "       [ 1.33662275e-02,  3.87168783e-01,  4.29738392e-01,\n",
              "        -1.70560644e-01,  5.90782683e-01,  2.24368173e-01],\n",
              "       [ 2.25611195e-01,  2.72432887e-02,  2.87812781e-01,\n",
              "         1.00136720e+00,  6.13981154e-01, -2.72977130e-04],\n",
              "       [-9.98690701e-01, -8.80969670e-01, -7.31616689e-01,\n",
              "         1.51402904e-01, -1.00035939e+00,  1.13304303e-01],\n",
              "       [-3.64771645e-01, -2.93801245e-01,  4.82567847e-01,\n",
              "         3.11259611e-01,  1.93383545e-01,  1.17159115e-01],\n",
              "       [ 7.60862082e-01,  8.53211824e-01,  8.85506307e-01,\n",
              "         7.17580287e-01,  6.66251850e-01,  2.37979568e-01],\n",
              "       [ 7.60862082e-01,  8.53211824e-01,  8.85506307e-01,\n",
              "         7.17580287e-01,  6.66251850e-01,  2.37979568e-01]])"
            ]
          },
          "metadata": {
            "tags": []
          },
          "execution_count": 14
        }
      ]
    },
    {
      "cell_type": "code",
      "metadata": {
        "id": "BpNn_IogQZgt"
      },
      "source": [
        "# transforma dos dados calculados na forma original (nao normatizado)\n",
        "y_obs_train=scaler_Y.inverse_transform(np.array(y_train).reshape(-1,6))\n",
        "# y_obs_test=scaler_Y.inverse_transform(np.array(y_test).reshape(-1,3))\n",
        "y_calc_train=scaler_Y.inverse_transform(y_calc_train.reshape(-1,6))\n",
        "# y_calc_test=scaler_Y.inverse_transform(y_calc_test.reshape(-1,3))"
      ],
      "execution_count": 15,
      "outputs": []
    },
    {
      "cell_type": "code",
      "metadata": {
        "id": "wmk4ojlFdCSr"
      },
      "source": [
        ""
      ],
      "execution_count": 15,
      "outputs": []
    },
    {
      "cell_type": "code",
      "metadata": {
        "id": "jGfHbJMBoX9y",
        "colab": {
          "base_uri": "https://localhost:8080/",
          "height": 35
        },
        "outputId": "17b06a42-254c-4d30-df98-6e9e7ac80727"
      },
      "source": [
        "'''\n",
        "mse=mean_squared_error(y_obs_test,y_calc_test)\n",
        "print(\"MSE teste=\",mse)\n",
        "R2=r2_score(y_obs_test,y_calc_test)\n",
        "print(\"R^2 teste=\",R2)\n",
        "'''"
      ],
      "execution_count": 16,
      "outputs": [
        {
          "output_type": "execute_result",
          "data": {
            "application/vnd.google.colaboratory.intrinsic+json": {
              "type": "string"
            },
            "text/plain": [
              "'\\nmse=mean_squared_error(y_obs_test,y_calc_test)\\nprint(\"MSE teste=\",mse)\\nR2=r2_score(y_obs_test,y_calc_test)\\nprint(\"R^2 teste=\",R2)\\n'"
            ]
          },
          "metadata": {
            "tags": []
          },
          "execution_count": 16
        }
      ]
    },
    {
      "cell_type": "code",
      "metadata": {
        "colab": {
          "base_uri": "https://localhost:8080/"
        },
        "id": "IQ6i-NR6ZP_6",
        "outputId": "ae999e36-594f-48ef-c6e4-97674cee6efb"
      },
      "source": [
        "mse=mean_squared_error(y_obs_train,y_calc_train)\n",
        "print(\"MSE treino=\",mse)\n",
        "R2=r2_score(y_obs_train,y_calc_train)\n",
        "print(\"R^2 treino=\",R2)"
      ],
      "execution_count": 17,
      "outputs": [
        {
          "output_type": "stream",
          "text": [
            "MSE treino= 0.5117499488229235\n",
            "R^2 treino= 0.9863695283782086\n"
          ],
          "name": "stdout"
        }
      ]
    },
    {
      "cell_type": "code",
      "metadata": {
        "id": "I6hcy2aKZVKe"
      },
      "source": [
        "def RDTR_calc(x_test): #Time     TC     Y  MI    MW\n",
        "    global Y_OLD,model\n",
        "    x_test = np.array(x_test).reshape(-1,4)\n",
        "    y_calc_test=model.predict(x_test)\n",
        "    y_calc_test =scaler_Y.inverse_transform(y_calc_test.reshape(-1,6))\n",
        "    y =  y_calc_test[:,0]\n",
        "    return y\n",
        "def RDTE_calc(x_test):\n",
        "    global Y_OLD,model\n",
        "    x_test = np.array(x_test).reshape(-1,4)\n",
        "    y_calc_test=model.predict(x_test)\n",
        "    y_calc_test =scaler_Y.inverse_transform(y_calc_test.reshape(-1,6))\n",
        "    y =  y_calc_test[:,1]\n",
        "    return y\n",
        "def RDCOT_calc(x_test):\n",
        "    global Y_OLD,model\n",
        "    x_test = x_test.reshape(-1,4)\n",
        "    y_calc_test=model.predict(x_test)\n",
        "    y_calc_test =scaler_Y.inverse_transform(y_calc_test.reshape(-1,6))\n",
        "    y =  y_calc_test[:,2]\n",
        "    return y\n",
        "\n",
        "def Desirability(y,U,T,L):\n",
        "    if y<L:\n",
        "        d=0\n",
        "    if (y>=L)&(y<=T):\n",
        "        d=(y-L)/(T-L)\n",
        "    if (y>=T)&(y<+U):\n",
        "        d=(U-y)/(U-T)\n",
        "    if (y>U):\n",
        "        d=0\n",
        "    return d"
      ],
      "execution_count": 18,
      "outputs": []
    },
    {
      "cell_type": "code",
      "metadata": {
        "id": "w52Tlboqbmhs"
      },
      "source": [
        "def function(x):\n",
        "    A=x[0]\n",
        "    B=x[1]\n",
        "    C=x[2]\n",
        "    D=x[3]\n",
        "    RDTR=RDTR_calc(x)\n",
        "    RDTE=RDTE_calc(x)\n",
        "    RDCOT=RDCOT_calc(x)\n",
        "    U=7\n",
        "    T=6\n",
        "    L=0\n",
        "    d1=Desirability(RDTR,U,T,L)\n",
        "    U=7\n",
        "    T=6\n",
        "    L=0\n",
        "    d2=Desirability(RDTE,U,T,L)\n",
        "    U=7\n",
        "    T=6\n",
        "    L=0\n",
        "    d3=Desirability(RDCOT,U,T,L)\n",
        "    fun = (-1)*(d1*d2*d3)**(1/3)\n",
        "    return fun"
      ],
      "execution_count": 19,
      "outputs": []
    },
    {
      "cell_type": "code",
      "metadata": {
        "colab": {
          "base_uri": "https://localhost:8080/"
        },
        "id": "2N_aneTlegod",
        "outputId": "07be2775-3a39-44c3-a00f-b7ea3a869cda"
      },
      "source": [
        "bounds = [(-2, 2),(-2, 2),(-2,2),(-2,2)]\n",
        "\n",
        "Condicoes = optimize.differential_evolution(function,bounds,\n",
        "                                      init=\"latinhypercube\", # obs: init=\"random\"\n",
        "                                      maxiter=500, popsize=50,recombination=0.5)\n",
        "\n",
        "x_opt = Condicoes.x\n",
        "x_opt =scaler_X.inverse_transform(np.array(x_opt).reshape(-1,4))\n",
        "y_opt =model.predict(x_opt)\n",
        "y_opt =scaler_Y.inverse_transform(np.array(y_opt).reshape(-1,6))\n",
        "print(x_opt)\n",
        "print(y_opt)"
      ],
      "execution_count": 20,
      "outputs": [
        {
          "output_type": "stream",
          "text": [
            "[[ 0.39916902 -0.06327128 -0.22258857  0.08442039]]\n",
            "[[  5.66174558   3.79142805   5.90366534   5.97354451   6.26158064\n",
            "  160.63177554]]\n"
          ],
          "name": "stdout"
        }
      ]
    },
    {
      "cell_type": "markdown",
      "metadata": {
        "id": "i_46TqDPi051"
      },
      "source": [
        "\n",
        "PS: no planejamento de experimentos utilizando o Statistica -e-papers Y=80 MI=65,044 MW=3586,1\n",
        "\n",
        "tempo=86,65 e Temperatura=178,77"
      ]
    }
  ]
}